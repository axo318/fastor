{
 "cells": [
  {
   "cell_type": "code",
   "execution_count": 258,
   "metadata": {},
   "outputs": [],
   "source": [
    "import pandas as pd\n",
    "import numpy as np\n",
    "import json\n",
    "import matplotlib.pyplot as plt\n",
    "from tqdm import tqdm\n",
    "import time"
   ]
  },
  {
   "cell_type": "code",
   "execution_count": 259,
   "metadata": {},
   "outputs": [],
   "source": [
    "SITE = \"website\"\n",
    "MEAN = \"mean\"\n",
    "STD = \"standard deviation\"\n",
    "VARIANCE = \"variance\"\n",
    "MAD = \"median absolute deviation\"\n",
    "\n",
    "TIMES = \"times\""
   ]
  },
  {
   "cell_type": "code",
   "execution_count": 260,
   "metadata": {},
   "outputs": [],
   "source": [
    "def readResults(path):\n",
    "    with open(path) as f:\n",
    "        d = json.load(f)\n",
    "    return d"
   ]
  },
  {
   "cell_type": "markdown",
   "metadata": {},
   "source": [
    "## Collect results in DataFrames"
   ]
  },
  {
   "cell_type": "code",
   "execution_count": 263,
   "metadata": {},
   "outputs": [],
   "source": [
    "# Collect results in dictionaries\n",
    "\n",
    "vanilla_r = readResults('vanilla.results')\n",
    "\n",
    "mean_0_r = readResults('score_mean/fastor_PA0.0_POOL5_0.results')\n",
    "mean_05_r = readResults('score_mean/fastor_PA0.5_POOL5_0.results')\n",
    "mean_1_r = readResults('score_mean/fastor_PA1_POOL5_1.results')\n",
    "\n",
    "var_0_r = readResults('score_variance/fastor_PA0.0_POOL5_0.results')\n",
    "var_05_r = readResults('score_variance/fastor_PA0.5_POOL5_0.results')\n",
    "var_1_r = readResults('score_variance/fastor_PA1_POOL5_1.results')\n",
    "\n",
    "mad_0_r = readResults('score_mad/fastor_PA0.0_POOL5_0.results')\n",
    "mad_05_r = readResults('score_mad/fastor_PA0.5_POOL5_1.results')\n",
    "mad_1_r = readResults('score_mad/fastor_PA1_POOL5_0.results')\n",
    "\n",
    "all_results = [vanilla_r,\n",
    "              mean_0_r, mean_05_r, mean_1_r,\n",
    "              var_0_r, var_05_r, var_1_r,\n",
    "              mad_0_r, mad_05_r, mad_1_r]"
   ]
  },
  {
   "cell_type": "code",
   "execution_count": 264,
   "metadata": {},
   "outputs": [],
   "source": [
    "# Calculate statistics in dataframes\n",
    "\n",
    "def getStats(result_dict):\n",
    "    df = pd.DataFrame()\n",
    "    df[SITE] = result_dict.keys()\n",
    "    df[TIMES] = df[SITE].map(result_dict)\n",
    "    df['reps'] = df[TIMES].apply(len)\n",
    "    df[MEAN] = df[TIMES].apply(np.mean)\n",
    "    df[STD] = df[TIMES].apply(np.std)\n",
    "    return df\n",
    "#     return df.drop(TIMES, axis=1)\n",
    "\n",
    "# Vanilla\n",
    "vanilla_df = getStats(vanilla_r)\n",
    "\n",
    "# Fastor Mean\n",
    "fastor_mean_0_df = getStats(mean_0_r)\n",
    "fastor_mean_05_df = getStats(mean_05_r)\n",
    "fastor_mean_1_df = getStats(mean_1_r)\n",
    "\n",
    "# Fastor Variance\n",
    "fastor_var_0_df = getStats(var_0_r)\n",
    "fastor_var_05_df = getStats(var_05_r)\n",
    "fastor_var_1_df = getStats(var_1_r)\n",
    "\n",
    "# Fastor MAD\n",
    "fastor_mad_0_df = getStats(mad_0_r)\n",
    "fastor_mad_05_df = getStats(mad_05_r)\n",
    "fastor_mad_1_df = getStats(mad_1_r)"
   ]
  },
  {
   "cell_type": "code",
   "execution_count": 265,
   "metadata": {},
   "outputs": [],
   "source": [
    "# Visualize number of repetitions for each website (to figure out minimum filter)\n",
    "def plotReps(df, t):\n",
    "    x = range(df.shape[0])\n",
    "    plt.scatter(x, df['reps'])\n",
    "    plt.title(t)\n",
    "    plt.show()\n",
    "\n",
    "# plotReps(vanilla_df, 'vanilla')\n",
    "\n",
    "# plotReps(fastor_mean_0_df, 'mean_0')\n",
    "# plotReps(fastor_mean_05_df, 'mean_05')\n",
    "# plotReps(fastor_mean_1_df, 'mean_1')\n",
    "\n",
    "# plotReps(fastor_var_0_df, 'var_0')\n",
    "# plotReps(fastor_var_05_df, 'var_05')\n",
    "# plotReps(fastor_var_1_df, 'var_1')\n",
    "\n",
    "# plotReps(fastor_mad_0_df, 'mad_0')\n",
    "# plotReps(fastor_mad_05_df, 'mad_05')\n",
    "# plotReps(fastor_mad_1_df, 'mad_01')"
   ]
  },
  {
   "cell_type": "code",
   "execution_count": 266,
   "metadata": {},
   "outputs": [],
   "source": [
    "# Find min limits for reps\n",
    "\n",
    "vanilla_reps_lim = 25\n",
    "\n",
    "fastor_mean_0_lim = 30\n",
    "fastor_mean_05_lim = 30\n",
    "fastor_mean_1_lim = 20\n",
    "\n",
    "fastor_var_0_lim = 25\n",
    "fastor_var_05_lim = 30\n",
    "fastor_var_1_lim = 15\n",
    "\n",
    "fastor_mad_0_lim = 30\n",
    "fastor_mad_05_lim = 30\n",
    "fastor_mad_1_lim = 30\n",
    "\n",
    "\n",
    "# Filter for sites with a minimum number of tries\n",
    "# vanilla\n",
    "vanilla_df = vanilla_df[vanilla_df['reps'] > vanilla_reps_lim]\n",
    "\n",
    "# fastor mean\n",
    "fastor_mean_0_df = fastor_mean_0_df[fastor_mean_0_df['reps'] > fastor_mean_0_lim]\n",
    "fastor_mean_05_df = fastor_mean_05_df[fastor_mean_05_df['reps'] > fastor_mean_05_lim]\n",
    "fastor_mean_1_df = fastor_mean_1_df[fastor_mean_1_df['reps'] > fastor_mean_1_lim]\n",
    "\n",
    "# fastor variance\n",
    "fastor_var_0_df = fastor_var_0_df[fastor_var_0_df['reps'] > fastor_var_0_lim]\n",
    "fastor_var_05_df = fastor_var_05_df[fastor_var_05_df['reps'] > fastor_var_05_lim]\n",
    "fastor_var_1_df = fastor_var_1_df[fastor_var_1_df['reps'] > fastor_var_1_lim]\n",
    "\n",
    "# fastor mad\n",
    "fastor_mad_0_df = fastor_mad_0_df[fastor_mad_0_df['reps'] > fastor_mad_0_lim]\n",
    "fastor_mad_05_df = fastor_mad_05_df[fastor_mad_05_df['reps'] > fastor_mad_05_lim]\n",
    "fastor_mad_1_df = fastor_mad_1_df[fastor_mad_1_df['reps'] > fastor_mad_1_lim]\n"
   ]
  },
  {
   "cell_type": "code",
   "execution_count": 267,
   "metadata": {},
   "outputs": [
    {
     "name": "stderr",
     "output_type": "stream",
     "text": [
      "100%|██████████| 487/487 [00:00<00:00, 890.60it/s]\n"
     ]
    },
    {
     "name": "stdout",
     "output_type": "stream",
     "text": [
      "Found 460 common sites!\n",
      "\n"
     ]
    }
   ],
   "source": [
    "# Leave only common websites in each dataframe\n",
    "\n",
    "all_dfs = [vanilla_df,\n",
    "           fastor_mean_0_df, fastor_mean_05_df, fastor_mean_1_df,\n",
    "           fastor_var_0_df, fastor_var_05_df, fastor_var_1_df,\n",
    "           fastor_mad_0_df, fastor_mad_05_df, fastor_mad_1_df]\n",
    "\n",
    "\n",
    "# Get all common sites\n",
    "def siteInAllDFs(site, list_dfs):\n",
    "    for i, df in enumerate(list_dfs):\n",
    "        if not site in df[SITE].unique():\n",
    "            return False\n",
    "    return True\n",
    "\n",
    "def getCommonSites():\n",
    "    all_sites = set().union(*all_results)\n",
    "    common_sites = []\n",
    "    \n",
    "    for site in tqdm(all_sites):\n",
    "        if siteInAllDFs(site, all_dfs):\n",
    "            common_sites.append(site)\n",
    "    return common_sites\n",
    "\n",
    "intersection_sites = getCommonSites()\n",
    "time.sleep(0.2)\n",
    "print(f\"Found {len(intersection_sites)} common sites!\\n\")\n",
    "\n",
    "\n",
    "# Filter all dfs for common sites\n",
    "    \n",
    "    \n",
    "# vanilla\n",
    "vanilla_df = vanilla_df[vanilla_df[SITE].isin(intersection_sites)].copy()\n",
    "\n",
    "# fastor mean\n",
    "fastor_mean_0_df = fastor_mean_0_df[fastor_mean_0_df[SITE].isin(intersection_sites)].copy()\n",
    "fastor_mean_05_df = fastor_mean_05_df[fastor_mean_05_df[SITE].isin(intersection_sites)].copy()\n",
    "fastor_mean_1_df = fastor_mean_1_df[fastor_mean_1_df[SITE].isin(intersection_sites)].copy()\n",
    "\n",
    "# fastor variance\n",
    "fastor_var_0_df = fastor_var_0_df[fastor_var_0_df[SITE].isin(intersection_sites)].copy()\n",
    "fastor_var_05_df = fastor_var_05_df[fastor_var_05_df[SITE].isin(intersection_sites)].copy()\n",
    "fastor_var_1_df = fastor_var_1_df[fastor_var_1_df[SITE].isin(intersection_sites)].copy()\n",
    "\n",
    "# fastor mad\n",
    "fastor_mad_0_df = fastor_mad_0_df[fastor_mad_0_df[SITE].isin(intersection_sites)].copy()\n",
    "fastor_mad_05_df = fastor_mad_05_df[fastor_mad_05_df[SITE].isin(intersection_sites)].copy()\n",
    "fastor_mad_1_df = fastor_mad_1_df[fastor_mad_1_df[SITE].isin(intersection_sites)].copy()\n"
   ]
  },
  {
   "cell_type": "code",
   "execution_count": 268,
   "metadata": {},
   "outputs": [],
   "source": [
    "# Save to csvs\n",
    "# vanilla_df.to_csv('vanilla_results.csv', index=False)\n",
    "\n",
    "# fastor_mean_0_df.to_csv('fastor_mean_0_results.csv', index=False)\n",
    "# fastor_mean_05_df.to_csv('fastor_mean_05_results.csv', index=False)\n",
    "# fastor_mean_1_df.to_csv('fastor_mean_1_results.csv', index=False)\n",
    "\n",
    "# fastor_var_0_df.to_csv('fastor_var_0_results.csv', index=False)\n",
    "# fastor_var_05_df.to_csv('fastor_var_05_results.csv', index=False)\n",
    "# fastor_var_1_df.to_csv('fastor_var_1_results.csv', index=False)\n",
    "\n",
    "# fastor_mad_0_df.to_csv('fastor_mad_0_results.csv', index=False)\n",
    "# fastor_mad_05_df.to_csv('fastor_mad_05_results.csv', index=False)\n",
    "# fastor_mad_1_df.to_csv('fastor_mad_1_results.csv', index=False)\n"
   ]
  },
  {
   "cell_type": "markdown",
   "metadata": {},
   "source": [
    "## Combine all dfs into one"
   ]
  },
  {
   "cell_type": "code",
   "execution_count": 269,
   "metadata": {},
   "outputs": [],
   "source": [
    "# Combine to 1 csv\n",
    "\n",
    "# Add cols on all dfs specifying options\n",
    "\n",
    "# vanilla\n",
    "vanilla_df[\"scheme\"] = ['vanilla'] * vanilla_df.shape[0]\n",
    "vanilla_df[\"score\"] = ['-'] * vanilla_df.shape[0]\n",
    "vanilla_df['PA'] = [-1] * vanilla_df.shape[0]\n",
    "vanilla_df['Pool Size'] = [-1] * vanilla_df.shape[0]\n",
    "\n",
    "# fastor mean\n",
    "fastor_mean_0_df[\"scheme\"] = ['fastor'] * fastor_mean_0_df.shape[0]\n",
    "fastor_mean_0_df[\"score\"] = ['mean'] * fastor_mean_0_df.shape[0]\n",
    "fastor_mean_0_df['PA'] = [0] * fastor_mean_0_df.shape[0]\n",
    "fastor_mean_0_df['Pool Size'] = [5] * fastor_mean_0_df.shape[0]\n",
    "\n",
    "fastor_mean_05_df[\"scheme\"] = ['fastor'] * fastor_mean_05_df.shape[0]\n",
    "fastor_mean_05_df[\"score\"] = ['mean'] * fastor_mean_05_df.shape[0]\n",
    "fastor_mean_05_df['PA'] = [0.5] * fastor_mean_05_df.shape[0]\n",
    "fastor_mean_05_df['Pool Size'] = [5] * fastor_mean_05_df.shape[0]\n",
    "\n",
    "fastor_mean_1_df[\"scheme\"] = ['fastor'] * fastor_mean_1_df.shape[0]\n",
    "fastor_mean_1_df[\"score\"] = ['mean'] * fastor_mean_1_df.shape[0]\n",
    "fastor_mean_1_df['PA'] = [1] * fastor_mean_1_df.shape[0]\n",
    "fastor_mean_1_df['Pool Size'] = [5] * fastor_mean_1_df.shape[0]\n",
    "\n",
    "# fastor variance\n",
    "fastor_var_0_df[\"scheme\"] = ['fastor'] * fastor_var_0_df.shape[0]\n",
    "fastor_var_0_df[\"score\"] = ['variance'] * fastor_var_0_df.shape[0]\n",
    "fastor_var_0_df['PA'] = [0] * fastor_var_0_df.shape[0]\n",
    "fastor_var_0_df['Pool Size'] = [5] * fastor_var_0_df.shape[0]\n",
    "\n",
    "fastor_var_05_df[\"scheme\"] = ['fastor'] * fastor_var_05_df.shape[0]\n",
    "fastor_var_05_df[\"score\"] = ['variance'] * fastor_var_05_df.shape[0]\n",
    "fastor_var_05_df['PA'] = [0.5] * fastor_var_05_df.shape[0]\n",
    "fastor_var_05_df['Pool Size'] = [5] * fastor_var_05_df.shape[0]\n",
    "\n",
    "fastor_var_1_df[\"scheme\"] = ['fastor'] * fastor_var_1_df.shape[0]\n",
    "fastor_var_1_df[\"score\"] = ['variance'] * fastor_var_1_df.shape[0]\n",
    "fastor_var_1_df['PA'] = [1] * fastor_var_1_df.shape[0]\n",
    "fastor_var_1_df['Pool Size'] = [5] * fastor_var_1_df.shape[0]\n",
    "\n",
    "# fastor mad\n",
    "fastor_mad_0_df[\"scheme\"] = ['fastor'] * fastor_mad_0_df.shape[0]\n",
    "fastor_mad_0_df[\"score\"] = ['mad'] * fastor_mad_0_df.shape[0]\n",
    "fastor_mad_0_df['PA'] = [0] * fastor_mad_0_df.shape[0]\n",
    "fastor_mad_0_df['Pool Size'] = [5] * fastor_mad_0_df.shape[0]\n",
    "\n",
    "fastor_mad_05_df[\"scheme\"] = ['fastor'] * fastor_mad_05_df.shape[0]\n",
    "fastor_mad_05_df[\"score\"] = ['mad'] * fastor_mad_05_df.shape[0]\n",
    "fastor_mad_05_df['PA'] = [0.5] * fastor_mad_05_df.shape[0]\n",
    "fastor_mad_05_df['Pool Size'] = [5] * fastor_mad_05_df.shape[0]\n",
    "\n",
    "fastor_mad_1_df[\"scheme\"] = ['fastor'] * fastor_mad_1_df.shape[0]\n",
    "fastor_mad_1_df[\"score\"] = ['mad'] * fastor_mad_1_df.shape[0]\n",
    "fastor_mad_1_df['PA'] = [1] * fastor_mad_1_df.shape[0]\n",
    "fastor_mad_1_df['Pool Size'] = [5] * fastor_mad_1_df.shape[0]\n",
    "\n",
    "all_dfs = [vanilla_df,\n",
    "          fastor_mean_0_df, fastor_mean_05_df, fastor_mean_1_df,\n",
    "          fastor_var_0_df, fastor_var_05_df, fastor_var_1_df,\n",
    "          fastor_mad_0_df, fastor_mad_05_df, fastor_mad_1_df]"
   ]
  },
  {
   "cell_type": "code",
   "execution_count": 270,
   "metadata": {},
   "outputs": [],
   "source": [
    "df = pd.concat(all_dfs, ignore_index=True).sort_values('website').reset_index()"
   ]
  },
  {
   "cell_type": "code",
   "execution_count": 271,
   "metadata": {},
   "outputs": [],
   "source": [
    "df.to_csv('evaluation.csv', quotechar='\"', index=False)"
   ]
  },
  {
   "cell_type": "code",
   "execution_count": null,
   "metadata": {},
   "outputs": [],
   "source": []
  },
  {
   "cell_type": "code",
   "execution_count": null,
   "metadata": {},
   "outputs": [],
   "source": []
  },
  {
   "cell_type": "code",
   "execution_count": null,
   "metadata": {},
   "outputs": [],
   "source": []
  },
  {
   "cell_type": "code",
   "execution_count": null,
   "metadata": {},
   "outputs": [],
   "source": []
  },
  {
   "cell_type": "code",
   "execution_count": null,
   "metadata": {},
   "outputs": [],
   "source": []
  },
  {
   "cell_type": "code",
   "execution_count": null,
   "metadata": {},
   "outputs": [],
   "source": []
  },
  {
   "cell_type": "code",
   "execution_count": null,
   "metadata": {},
   "outputs": [],
   "source": []
  }
 ],
 "metadata": {
  "kernelspec": {
   "display_name": "venv",
   "language": "python",
   "name": "venv"
  },
  "language_info": {
   "codemirror_mode": {
    "name": "ipython",
    "version": 3
   },
   "file_extension": ".py",
   "mimetype": "text/x-python",
   "name": "python",
   "nbconvert_exporter": "python",
   "pygments_lexer": "ipython3",
   "version": "3.7.3"
  }
 },
 "nbformat": 4,
 "nbformat_minor": 4
}
