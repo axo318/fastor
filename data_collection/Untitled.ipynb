{
 "cells": [
  {
   "cell_type": "code",
   "execution_count": 1,
   "metadata": {},
   "outputs": [],
   "source": [
    "import json"
   ]
  },
  {
   "cell_type": "code",
   "execution_count": 2,
   "metadata": {},
   "outputs": [],
   "source": [
    "\n",
    "        "
   ]
  },
  {
   "cell_type": "code",
   "execution_count": 3,
   "metadata": {},
   "outputs": [
    {
     "data": {
      "text/plain": [
       "81008"
      ]
     },
     "execution_count": 3,
     "metadata": {},
     "output_type": "execute_result"
    }
   ],
   "source": [
    "len(jsons)"
   ]
  },
  {
   "cell_type": "code",
   "execution_count": 4,
   "metadata": {},
   "outputs": [
    {
     "data": {
      "text/plain": [
       "{'timestamp': '2021-02-24 T 13:16:26.186364',\n",
       " 'anchor': '749EF4A434DFD00DAB31E93DE86233FB916D31E3',\n",
       " 'file_size_kb': 1,\n",
       " 'relay': 'FFFBFB50A83A414CC21B4CDA93A9674B004705E8',\n",
       " 'times': [0.5963854789733887,\n",
       "  0.6080307960510254,\n",
       "  0.6715302467346191,\n",
       "  0.6455419063568115,\n",
       "  0.7262742519378662,\n",
       "  0.756727933883667,\n",
       "  0.7973346710205078,\n",
       "  0.7233819961547852,\n",
       "  0.6402339935302734,\n",
       "  0.7347784042358398]}"
      ]
     },
     "execution_count": 4,
     "metadata": {},
     "output_type": "execute_result"
    }
   ],
   "source": [
    "jsons[0]"
   ]
  },
  {
   "cell_type": "code",
   "execution_count": 14,
   "metadata": {},
   "outputs": [
    {
     "data": {
      "text/plain": [
       "[{'timestamp': '2021-02-24 T 20:35:43.959259',\n",
       "  'anchor': '749EF4A434DFD00DAB31E93DE86233FB916D31E3',\n",
       "  'file_size_kb': 1,\n",
       "  'relay': '75C8EDDC0322408831FC9B55308835248D78DD19',\n",
       "  'times': [0.4638099670410156,\n",
       "   0.6028854846954346,\n",
       "   0.660283088684082,\n",
       "   0.6403963565826416,\n",
       "   0.645035982131958,\n",
       "   0.7892484664916992,\n",
       "   0.6553797721862793,\n",
       "   0.7372782230377197,\n",
       "   0.6278707981109619,\n",
       "   0.6050999164581299]},\n",
       " {'timestamp': '2021-02-25 T 09:15:00.871169',\n",
       "  'anchor': '749EF4A434DFD00DAB31E93DE86233FB916D31E3',\n",
       "  'file_size_kb': 1,\n",
       "  'relay': '75C8EDDC0322408831FC9B55308835248D78DD19',\n",
       "  'times': [0.5539968013763428,\n",
       "   0.6087768077850342,\n",
       "   0.6769394874572754,\n",
       "   0.7050189971923828,\n",
       "   0.7214579582214355,\n",
       "   0.697150468826294,\n",
       "   0.6918299198150635,\n",
       "   0.6721329689025879,\n",
       "   0.6679902076721191,\n",
       "   0.7037551403045654]}]"
      ]
     },
     "execution_count": 14,
     "metadata": {},
     "output_type": "execute_result"
    }
   ],
   "source": [
    "[x for x in jsons if x['relay']=='75C8EDDC0322408831FC9B55308835248D78DD19']"
   ]
  },
  {
   "cell_type": "code",
   "execution_count": null,
   "metadata": {},
   "outputs": [],
   "source": []
  }
 ],
 "metadata": {
  "kernelspec": {
   "display_name": "venv",
   "language": "python",
   "name": "venv"
  },
  "language_info": {
   "codemirror_mode": {
    "name": "ipython",
    "version": 3
   },
   "file_extension": ".py",
   "mimetype": "text/x-python",
   "name": "python",
   "nbconvert_exporter": "python",
   "pygments_lexer": "ipython3",
   "version": "3.7.3"
  }
 },
 "nbformat": 4,
 "nbformat_minor": 4
}
