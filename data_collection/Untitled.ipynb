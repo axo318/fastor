{
 "cells": [
  {
   "cell_type": "code",
   "execution_count": 1,
   "metadata": {},
   "outputs": [],
   "source": [
    "import json"
   ]
  },
  {
   "cell_type": "code",
   "execution_count": 1,
   "metadata": {},
   "outputs": [],
   "source": [
    "\n"
   ]
  },
  {
   "cell_type": "code",
   "execution_count": 2,
   "metadata": {},
   "outputs": [
    {
     "ename": "NameError",
     "evalue": "name 'jsons' is not defined",
     "output_type": "error",
     "traceback": [
      "\u001B[0;31m---------------------------------------------------------------------------\u001B[0m",
      "\u001B[0;31mNameError\u001B[0m                                 Traceback (most recent call last)",
      "\u001B[0;32m<ipython-input-2-c9a6af238338>\u001B[0m in \u001B[0;36m<module>\u001B[0;34m\u001B[0m\n\u001B[0;32m----> 1\u001B[0;31m \u001B[0mlen\u001B[0m\u001B[0;34m(\u001B[0m\u001B[0mjsons\u001B[0m\u001B[0;34m)\u001B[0m\u001B[0;34m\u001B[0m\u001B[0;34m\u001B[0m\u001B[0m\n\u001B[0m\u001B[1;32m      2\u001B[0m \u001B[0;34m\u001B[0m\u001B[0m\n",
      "\u001B[0;31mNameError\u001B[0m: name 'jsons' is not defined"
     ]
    }
   ],
   "source": [
    "len(jsons)"
   ]
  },
  {
   "cell_type": "code",
   "execution_count": 3,
   "metadata": {},
   "outputs": [
    {
     "ename": "NameError",
     "evalue": "name 'jsons' is not defined",
     "output_type": "error",
     "traceback": [
      "\u001B[0;31m---------------------------------------------------------------------------\u001B[0m",
      "\u001B[0;31mNameError\u001B[0m                                 Traceback (most recent call last)",
      "\u001B[0;32m<ipython-input-3-b8a526aeaab9>\u001B[0m in \u001B[0;36m<module>\u001B[0;34m\u001B[0m\n\u001B[0;32m----> 1\u001B[0;31m \u001B[0mjsons\u001B[0m\u001B[0;34m[\u001B[0m\u001B[0;36m0\u001B[0m\u001B[0;34m]\u001B[0m\u001B[0;34m\u001B[0m\u001B[0;34m\u001B[0m\u001B[0m\n\u001B[0m\u001B[1;32m      2\u001B[0m \u001B[0;34m\u001B[0m\u001B[0m\n",
      "\u001B[0;31mNameError\u001B[0m: name 'jsons' is not defined"
     ]
    }
   ],
   "source": [
    "jsons[0]"
   ]
  },
  {
   "cell_type": "code",
   "execution_count": 14,
   "metadata": {},
   "outputs": [
    {
     "data": {
      "text/plain": [
       "[{'timestamp': '2021-02-24 T 20:35:43.959259',\n",
       "  'anchor': '749EF4A434DFD00DAB31E93DE86233FB916D31E3',\n",
       "  'file_size_kb': 1,\n",
       "  'relay': '75C8EDDC0322408831FC9B55308835248D78DD19',\n",
       "  'times': [0.4638099670410156,\n",
       "   0.6028854846954346,\n",
       "   0.660283088684082,\n",
       "   0.6403963565826416,\n",
       "   0.645035982131958,\n",
       "   0.7892484664916992,\n",
       "   0.6553797721862793,\n",
       "   0.7372782230377197,\n",
       "   0.6278707981109619,\n",
       "   0.6050999164581299]},\n",
       " {'timestamp': '2021-02-25 T 09:15:00.871169',\n",
       "  'anchor': '749EF4A434DFD00DAB31E93DE86233FB916D31E3',\n",
       "  'file_size_kb': 1,\n",
       "  'relay': '75C8EDDC0322408831FC9B55308835248D78DD19',\n",
       "  'times': [0.5539968013763428,\n",
       "   0.6087768077850342,\n",
       "   0.6769394874572754,\n",
       "   0.7050189971923828,\n",
       "   0.7214579582214355,\n",
       "   0.697150468826294,\n",
       "   0.6918299198150635,\n",
       "   0.6721329689025879,\n",
       "   0.6679902076721191,\n",
       "   0.7037551403045654]}]"
      ]
     },
     "execution_count": 14,
     "metadata": {},
     "output_type": "execute_result"
    }
   ],
   "source": [
    "[x for x in jsons if x['relay']=='75C8EDDC0322408831FC9B55308835248D78DD19']"
   ]
  },
  {
   "cell_type": "code",
   "execution_count": null,
   "metadata": {},
   "outputs": [],
   "source": []
  }
 ],
 "metadata": {
  "kernelspec": {
   "name": "python3",
   "language": "python",
   "display_name": "Python 3"
  },
  "language_info": {
   "codemirror_mode": {
    "name": "ipython",
    "version": 3
   },
   "file_extension": ".py",
   "mimetype": "text/x-python",
   "name": "python",
   "nbconvert_exporter": "python",
   "pygments_lexer": "ipython3",
   "version": "3.7.3"
  }
 },
 "nbformat": 4,
 "nbformat_minor": 4
}