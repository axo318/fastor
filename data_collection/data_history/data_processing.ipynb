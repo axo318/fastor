{
 "cells": [
  {
   "cell_type": "code",
   "execution_count": 33,
   "metadata": {},
   "outputs": [],
   "source": [
    "import json\n",
    "import numpy as np\n",
    "import scipy.stats\n",
    "import pandas as pd\n",
    "import matplotlib.pyplot as plt"
   ]
  },
  {
   "cell_type": "code",
   "execution_count": 2,
   "outputs": [],
   "source": [
    "jsons = []"
   ],
   "metadata": {
    "collapsed": false,
    "pycharm": {
     "name": "#%%\n"
    }
   }
  },
  {
   "cell_type": "code",
   "execution_count": 3,
   "metadata": {},
   "outputs": [],
   "source": [
    "with open('81000_line_measuremetnts.json') as f:\n",
    "    for line in f:\n",
    "        jsons.append(json.loads(line))"
   ]
  },
  {
   "cell_type": "code",
   "execution_count": 40,
   "metadata": {},
   "outputs": [],
   "source": [
    "TIME = 'timestamp'\n",
    "ANCHOR = 'anchor'\n",
    "FSIZE = 'file_size_kb'\n",
    "RELAY = 'relay'\n",
    "TIMES = 'times'\n",
    "\n",
    "MEAN = \"mean\"\n",
    "VARIANCE = \"variance\"\n",
    "STD = \"standard deviation\"\n",
    "MEAD = \"mean absolute deviation\"\n",
    "MAD = \"median absolute deviation\""
   ]
  },
  {
   "cell_type": "code",
   "execution_count": 5,
   "metadata": {},
   "outputs": [
    {
     "data": {
      "text/plain": "{'timestamp': '2021-02-24 T 13:16:26.186364',\n 'anchor': '749EF4A434DFD00DAB31E93DE86233FB916D31E3',\n 'file_size_kb': 1,\n 'relay': 'FFFBFB50A83A414CC21B4CDA93A9674B004705E8',\n 'times': [0.5963854789733887,\n  0.6080307960510254,\n  0.6715302467346191,\n  0.6455419063568115,\n  0.7262742519378662,\n  0.756727933883667,\n  0.7973346710205078,\n  0.7233819961547852,\n  0.6402339935302734,\n  0.7347784042358398]}"
     },
     "execution_count": 5,
     "metadata": {},
     "output_type": "execute_result"
    }
   ],
   "source": [
    "jsons[0]"
   ]
  },
  {
   "cell_type": "code",
   "execution_count": 6,
   "metadata": {},
   "outputs": [],
   "source": [
    "def getDataFrame(path_to_json):\n",
    "    jsons = []\n",
    "    \n",
    "    with open(path_to_json) as f:\n",
    "        for line in f:\n",
    "            jsons.append(json.loads(line))\n",
    "        \n",
    "    timestamps = []\n",
    "    anchors = []\n",
    "    file_sizes = []\n",
    "    relays = []\n",
    "    times = []\n",
    "    \n",
    "    for row in jsons:\n",
    "        timestamps.append(row[TIME])\n",
    "        anchors.append(row[ANCHOR])\n",
    "        file_sizes.append(row[FSIZE])\n",
    "        relays.append(row[RELAY])\n",
    "        times.append(row[TIMES])\n",
    "        \n",
    "    df = pd.DataFrame()\n",
    "    df[TIME] = timestamps\n",
    "    df[RELAY] = relays\n",
    "    df[ANCHOR] = anchors\n",
    "    df[FSIZE] = file_sizes\n",
    "    df[TIMES] = times\n",
    "    return df\n",
    "            "
   ]
  },
  {
   "cell_type": "code",
   "execution_count": 10,
   "metadata": {},
   "outputs": [
    {
     "name": "stdout",
     "output_type": "stream",
     "text": [
      "Shape: (81008, 5)\n",
      "Unique relays: 7395\n"
     ]
    }
   ],
   "source": [
    "df_raw = getDataFrame('81000_line_measuremetnts.json')\n",
    "print(f'Shape: {df_raw.shape}')\n",
    "print(f'Unique relays: {df_raw[RELAY].unique().shape[0]}')"
   ]
  },
  {
   "cell_type": "code",
   "execution_count": 38,
   "outputs": [
    {
     "data": {
      "text/plain": "[0.29636311531066895,\n 0.3683156967163086,\n 0.3712601661682129,\n 0.3815762996673584,\n 0.3727574348449707,\n 0.3731966018676758,\n 0.43424534797668457,\n 0.5296764373779297,\n 0.37731051445007324,\n 0.41094493865966797]"
     },
     "execution_count": 38,
     "metadata": {},
     "output_type": "execute_result"
    }
   ],
   "source": [
    "df_raw.iloc[81003][TIMES]"
   ],
   "metadata": {
    "collapsed": false,
    "pycharm": {
     "name": "#%%\n"
    }
   }
  },
  {
   "cell_type": "code",
   "execution_count": 41,
   "outputs": [],
   "source": [
    "# Calculate mean and variance of each relay measurement\n",
    "df = pd.DataFrame()\n",
    "df[TIME] = df_raw[TIME]\n",
    "df[RELAY] = df_raw[RELAY]\n",
    "df[MEAN] = df_raw[TIMES].apply(np.mean)\n",
    "df[VARIANCE] = df_raw[TIMES].apply(np.var)\n",
    "df[STD] = df_raw[TIMES].apply(np.std)"
   ],
   "metadata": {
    "collapsed": false,
    "pycharm": {
     "name": "#%%\n"
    }
   }
  },
  {
   "cell_type": "code",
   "execution_count": 42,
   "outputs": [],
   "source": [
    "df[MEAD] = df_raw[TIMES].apply(lambda x: np.mean([np.abs(elem - np.mean(x)) for elem in x]))"
   ],
   "metadata": {
    "collapsed": false,
    "pycharm": {
     "name": "#%%\n"
    }
   }
  },
  {
   "cell_type": "code",
   "execution_count": 43,
   "outputs": [],
   "source": [
    "df[MAD] = df_raw[TIMES].apply(scipy.stats.median_absolute_deviation)"
   ],
   "metadata": {
    "collapsed": false,
    "pycharm": {
     "name": "#%%\n"
    }
   }
  },
  {
   "cell_type": "code",
   "execution_count": 44,
   "outputs": [
    {
     "data": {
      "text/plain": "                          timestamp                                     relay  \\\n0      2021-02-24 T 13:16:26.186364  FFFBFB50A83A414CC21B4CDA93A9674B004705E8   \n1      2021-02-24 T 13:16:34.484505  FFF78C44BA6E6B6F7525095BBE14EF7CBEB89744   \n2      2021-02-24 T 13:16:37.866556  FFF651A9D56C4CE94B6CC0C7C31C25E5A80D6906   \n3      2021-02-24 T 13:16:40.820013  FFDC2CC395CB214B736502EF4008278461159D66   \n4      2021-02-24 T 13:16:47.994572  FFBC69467B37D6AC66598BBD295F9B0D74119ADC   \n...                             ...                                       ...   \n81003  2021-03-04 T 11:16:34.457442  2D41697016C0070174BF079BADA7207604086A15   \n81004  2021-03-04 T 11:16:39.309890  2D3BAED2B7D2FF19DA0AEEA37C238B57A01EA485   \n81005  2021-03-04 T 11:16:42.346751  2D2A8535FA0D93E8164F13669148936841871051   \n81006  2021-03-04 T 11:16:46.022272  2D1F9D59FBA5ECD6BE5A0B00197DC281FC2C40C4   \n81007  2021-03-04 T 11:16:49.747459  2D13F31E8BD2D13B9A1F7E0351FB55ADD142FEED   \n\n           mean  variance  standard deviation  mean absolute deviation  \\\n0      0.690022  0.004069            0.063785                 0.057677   \n1      0.301382  0.003554            0.059616                 0.047776   \n2      0.262694  0.001473            0.038375                 0.027262   \n3      0.628321  0.002264            0.047586                 0.040326   \n4      0.243789  0.001149            0.033899                 0.025279   \n...         ...       ...                 ...                      ...   \n81003  0.391565  0.003228            0.056817                 0.040035   \n81004  0.275194  0.002786            0.052780                 0.041289   \n81005  0.331982  0.034258            0.185090                 0.164078   \n81006  0.321245  0.014465            0.120269                 0.078934   \n81007  0.306639  0.010054            0.100268                 0.079705   \n\n       median absolute deviation  \n0                       0.080903  \n1                       0.080941  \n2                       0.032958  \n3                       0.021841  \n4                       0.028395  \n...                          ...  \n81003                   0.009830  \n81004                   0.043597  \n81005                   0.039413  \n81006                   0.044658  \n81007                   0.044853  \n\n[81008 rows x 7 columns]",
      "text/html": "<div>\n<style scoped>\n    .dataframe tbody tr th:only-of-type {\n        vertical-align: middle;\n    }\n\n    .dataframe tbody tr th {\n        vertical-align: top;\n    }\n\n    .dataframe thead th {\n        text-align: right;\n    }\n</style>\n<table border=\"1\" class=\"dataframe\">\n  <thead>\n    <tr style=\"text-align: right;\">\n      <th></th>\n      <th>timestamp</th>\n      <th>relay</th>\n      <th>mean</th>\n      <th>variance</th>\n      <th>standard deviation</th>\n      <th>mean absolute deviation</th>\n      <th>median absolute deviation</th>\n    </tr>\n  </thead>\n  <tbody>\n    <tr>\n      <th>0</th>\n      <td>2021-02-24 T 13:16:26.186364</td>\n      <td>FFFBFB50A83A414CC21B4CDA93A9674B004705E8</td>\n      <td>0.690022</td>\n      <td>0.004069</td>\n      <td>0.063785</td>\n      <td>0.057677</td>\n      <td>0.080903</td>\n    </tr>\n    <tr>\n      <th>1</th>\n      <td>2021-02-24 T 13:16:34.484505</td>\n      <td>FFF78C44BA6E6B6F7525095BBE14EF7CBEB89744</td>\n      <td>0.301382</td>\n      <td>0.003554</td>\n      <td>0.059616</td>\n      <td>0.047776</td>\n      <td>0.080941</td>\n    </tr>\n    <tr>\n      <th>2</th>\n      <td>2021-02-24 T 13:16:37.866556</td>\n      <td>FFF651A9D56C4CE94B6CC0C7C31C25E5A80D6906</td>\n      <td>0.262694</td>\n      <td>0.001473</td>\n      <td>0.038375</td>\n      <td>0.027262</td>\n      <td>0.032958</td>\n    </tr>\n    <tr>\n      <th>3</th>\n      <td>2021-02-24 T 13:16:40.820013</td>\n      <td>FFDC2CC395CB214B736502EF4008278461159D66</td>\n      <td>0.628321</td>\n      <td>0.002264</td>\n      <td>0.047586</td>\n      <td>0.040326</td>\n      <td>0.021841</td>\n    </tr>\n    <tr>\n      <th>4</th>\n      <td>2021-02-24 T 13:16:47.994572</td>\n      <td>FFBC69467B37D6AC66598BBD295F9B0D74119ADC</td>\n      <td>0.243789</td>\n      <td>0.001149</td>\n      <td>0.033899</td>\n      <td>0.025279</td>\n      <td>0.028395</td>\n    </tr>\n    <tr>\n      <th>...</th>\n      <td>...</td>\n      <td>...</td>\n      <td>...</td>\n      <td>...</td>\n      <td>...</td>\n      <td>...</td>\n      <td>...</td>\n    </tr>\n    <tr>\n      <th>81003</th>\n      <td>2021-03-04 T 11:16:34.457442</td>\n      <td>2D41697016C0070174BF079BADA7207604086A15</td>\n      <td>0.391565</td>\n      <td>0.003228</td>\n      <td>0.056817</td>\n      <td>0.040035</td>\n      <td>0.009830</td>\n    </tr>\n    <tr>\n      <th>81004</th>\n      <td>2021-03-04 T 11:16:39.309890</td>\n      <td>2D3BAED2B7D2FF19DA0AEEA37C238B57A01EA485</td>\n      <td>0.275194</td>\n      <td>0.002786</td>\n      <td>0.052780</td>\n      <td>0.041289</td>\n      <td>0.043597</td>\n    </tr>\n    <tr>\n      <th>81005</th>\n      <td>2021-03-04 T 11:16:42.346751</td>\n      <td>2D2A8535FA0D93E8164F13669148936841871051</td>\n      <td>0.331982</td>\n      <td>0.034258</td>\n      <td>0.185090</td>\n      <td>0.164078</td>\n      <td>0.039413</td>\n    </tr>\n    <tr>\n      <th>81006</th>\n      <td>2021-03-04 T 11:16:46.022272</td>\n      <td>2D1F9D59FBA5ECD6BE5A0B00197DC281FC2C40C4</td>\n      <td>0.321245</td>\n      <td>0.014465</td>\n      <td>0.120269</td>\n      <td>0.078934</td>\n      <td>0.044658</td>\n    </tr>\n    <tr>\n      <th>81007</th>\n      <td>2021-03-04 T 11:16:49.747459</td>\n      <td>2D13F31E8BD2D13B9A1F7E0351FB55ADD142FEED</td>\n      <td>0.306639</td>\n      <td>0.010054</td>\n      <td>0.100268</td>\n      <td>0.079705</td>\n      <td>0.044853</td>\n    </tr>\n  </tbody>\n</table>\n<p>81008 rows × 7 columns</p>\n</div>"
     },
     "execution_count": 44,
     "metadata": {},
     "output_type": "execute_result"
    }
   ],
   "source": [
    "df"
   ],
   "metadata": {
    "collapsed": false,
    "pycharm": {
     "name": "#%%\n"
    }
   }
  },
  {
   "cell_type": "code",
   "execution_count": 45,
   "metadata": {},
   "outputs": [],
   "source": [
    "# df.to_csv(\"measurement_stats.csv\", index=False)"
   ]
  },
  {
   "cell_type": "code",
   "execution_count": 21,
   "metadata": {},
   "outputs": [
    {
     "data": {
      "text/plain": "40.685566663506734"
     },
     "execution_count": 21,
     "metadata": {},
     "output_type": "execute_result"
    }
   ],
   "source": []
  },
  {
   "cell_type": "code",
   "execution_count": null,
   "outputs": [],
   "source": [],
   "metadata": {
    "collapsed": false,
    "pycharm": {
     "name": "#%%\n"
    }
   }
  }
 ],
 "metadata": {
  "kernelspec": {
   "name": "python3",
   "language": "python",
   "display_name": "Python 3"
  },
  "language_info": {
   "codemirror_mode": {
    "name": "ipython",
    "version": 3
   },
   "file_extension": ".py",
   "mimetype": "text/x-python",
   "name": "python",
   "nbconvert_exporter": "python",
   "pygments_lexer": "ipython3",
   "version": "3.7.3"
  }
 },
 "nbformat": 4,
 "nbformat_minor": 4
}